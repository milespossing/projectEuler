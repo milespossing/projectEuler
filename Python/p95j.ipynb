{
 "cells": [
  {
   "cell_type": "markdown",
   "source": [
    "# Problem 95 "
   ],
   "metadata": {
    "collapsed": false,
    "pycharm": {
     "name": "#%% md\n"
    }
   }
  },
  {
   "cell_type": "code",
   "execution_count": 15,
   "metadata": {
    "collapsed": true,
    "pycharm": {
     "name": "#%% setup\n",
     "is_executing": false
    }
   },
   "outputs": [],
   "source": [
    "import sympy\n",
    "import numpy\n",
    "from Timer import timer\n",
    "\n",
    "N = 500\n",
    "debug = False\n",
    "\n",
    "def debug_print(val):\n",
    "    if debug:\n",
    "        print(val)"
   ]
  },
  {
   "cell_type": "code",
   "execution_count": 17,
   "outputs": [
    {
     "name": "stdout",
     "text": [
      "512\n"
     ],
     "output_type": "stream"
    }
   ],
   "source": [
    "def get_factors():\n",
    "    l = {}\n",
    "    for i in range(2,N):\n",
    "        a = sympy.primefactors(i)\n",
    "        b = set(a)\n",
    "        for factor in a:\n",
    "            b.add(int(i / factor))\n",
    "        b.add(1)\n",
    "        # debug_print(f\"{i}: {b}\")\n",
    "        l[i] = sum(b)\n",
    "        # print(a)\n",
    "    # debug_print(l)\n",
    "    return l\n",
    "\n",
    "def find_chains(l):\n",
    "    visited = set()\n",
    "    longestChain = []\n",
    "    longest = 0\n",
    "    for i in l:\n",
    "        if i in visited:\n",
    "            continue\n",
    "        visited.add(i)\n",
    "        current = i\n",
    "        currentSet = []\n",
    "        while current not in currentSet: \n",
    "            currentSet.append(current)\n",
    "            current = l[current]\n",
    "        if len(currentSet) > longest:\n",
    "            longest = len(currentSet)\n",
    "            longestChain = currentSet\n",
    "    return [longest,min(longestChain)]\n",
    "\n",
    "@timer\n",
    "def main():    \n",
    "    links = get_factors()\n",
    "    [longest,smallest] = find_chains(links)\n",
    "    print(f'longest={longest}\\nsmallest={smallest}')\n",
    "    \n",
    "main()\n"
   ],
   "metadata": {
    "collapsed": false,
    "pycharm": {
     "name": "#%%\n",
     "is_executing": false
    }
   }
  }
 ],
 "metadata": {
  "kernelspec": {
   "display_name": "Python 3",
   "language": "python",
   "name": "python3"
  },
  "language_info": {
   "codemirror_mode": {
    "name": "ipython",
    "version": 2
   },
   "file_extension": ".py",
   "mimetype": "text/x-python",
   "name": "python",
   "nbconvert_exporter": "python",
   "pygments_lexer": "ipython2",
   "version": "2.7.6"
  },
  "pycharm": {
   "stem_cell": {
    "cell_type": "raw",
    "source": [],
    "metadata": {
     "collapsed": false
    }
   }
  }
 },
 "nbformat": 4,
 "nbformat_minor": 0
}