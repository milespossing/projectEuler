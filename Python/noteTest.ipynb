{
 "cells": [
  {
   "cell_type": "markdown",
   "source": [
    "# Problem 64\n",
    "\n",
    "## Notes\n",
    "\n",
    "This looks like it might be simple if I do this with a simple recursive\n",
    "algorithm such that the difference between the largest whole number\n",
    "square number less than *n* is evaluated."
   ],
   "metadata": {
    "collapsed": false,
    "pycharm": {
     "name": "#%% md\n"
    }
   }
  },
  {
   "cell_type": "code",
   "execution_count": null,
   "outputs": [],
   "source": [
    "import math\n",
    "\n",
    "%%latex\n",
    "\n",
    "\n"
   ],
   "metadata": {
    "collapsed": false,
    "pycharm": {
     "name": "#%%\n"
    }
   }
  },
  {
   "cell_type": "code",
   "execution_count": 7,
   "outputs": [],
   "source": [
    "def p64_algo(n):\n",
    "    output = 0\n",
    "    for i in range(2,n + 1):\n",
    "        data = getContinuedFraction(i)\n",
    "        if data[1] % 2 == 1:\n",
    "            output += 1\n",
    "\n",
    "def getContinuedFraction(n,arr = None ):\n",
    "    if arr is None:\n",
    "\t    arr = []\n",
    "    s = math.sqrt(n)\n",
    "    lower = math.floor(s)\n",
    "    dif = n - lower\n",
    "    if dif in arr:\n",
    "        return [lower,arr]\n",
    "    else:\n",
    "        print(\"nothing\")\n",
    "    return [0,0]"
   ],
   "metadata": {
    "collapsed": false,
    "pycharm": {
     "name": "#%%\n",
     "is_executing": false
    }
   }
  },
  {
   "cell_type": "code",
   "execution_count": null,
   "outputs": [],
   "source": [
    "getContinuedFraction(23)\n"
   ],
   "metadata": {
    "collapsed": false,
    "pycharm": {
     "name": "#%%\n"
    }
   }
  }
 ],
 "metadata": {
  "kernelspec": {
   "display_name": "Python 3",
   "language": "python",
   "name": "python3"
  },
  "language_info": {
   "codemirror_mode": {
    "name": "ipython",
    "version": 2
   },
   "file_extension": ".py",
   "mimetype": "text/x-python",
   "name": "python",
   "nbconvert_exporter": "python",
   "pygments_lexer": "ipython2",
   "version": "2.7.6"
  },
  "pycharm": {
   "stem_cell": {
    "cell_type": "raw",
    "source": [],
    "metadata": {
     "collapsed": false
    }
   }
  }
 },
 "nbformat": 4,
 "nbformat_minor": 0
}